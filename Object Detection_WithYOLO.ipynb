{
 "cells": [
  {
   "cell_type": "code",
   "execution_count": 3,
   "metadata": {},
   "outputs": [
    {
     "name": "stdout",
     "output_type": "stream",
     "text": [
      "/Users/hanithavarsini/Desktop/HCx\n"
     ]
    }
   ],
   "source": [
    "print(os.getcwd())"
   ]
  },
  {
   "cell_type": "code",
   "execution_count": 16,
   "metadata": {},
   "outputs": [
    {
     "name": "stdout",
     "output_type": "stream",
     "text": [
      "Collecting opencv-python\n",
      "  Using cached opencv_python-4.8.0.76-cp37-abi3-macosx_11_0_arm64.whl (33.1 MB)\n",
      "Requirement already satisfied: numpy>=1.21.0 in /Users/hanithavarsini/.pyenv/versions/3.8.10/lib/python3.8/site-packages (from opencv-python) (1.24.3)\n",
      "Installing collected packages: opencv-python\n",
      "Successfully installed opencv-python-4.8.0.76\n",
      "\n",
      "\u001b[1m[\u001b[0m\u001b[34;49mnotice\u001b[0m\u001b[1;39;49m]\u001b[0m\u001b[39;49m A new release of pip is available: \u001b[0m\u001b[31;49m23.1.2\u001b[0m\u001b[39;49m -> \u001b[0m\u001b[32;49m23.2.1\u001b[0m\n",
      "\u001b[1m[\u001b[0m\u001b[34;49mnotice\u001b[0m\u001b[1;39;49m]\u001b[0m\u001b[39;49m To update, run: \u001b[0m\u001b[32;49mpip install --upgrade pip\u001b[0m\n"
     ]
    }
   ],
   "source": [
    "\n",
    "# !pip3 install opencv-python"
   ]
  },
  {
   "cell_type": "code",
   "execution_count": 1,
   "metadata": {},
   "outputs": [],
   "source": [
    "# Importing needed libraries\n",
    "import numpy as np\n",
    "import cv2\n",
    "import time\n",
    "import os"
   ]
  },
  {
   "cell_type": "code",
   "execution_count": 2,
   "metadata": {},
   "outputs": [],
   "source": [
    "image_BGR = cv2.imread('image1.png')"
   ]
  },
  {
   "cell_type": "code",
   "execution_count": 3,
   "metadata": {},
   "outputs": [],
   "source": [
    "cv2.namedWindow('Original Image', cv2.WINDOW_NORMAL)"
   ]
  },
  {
   "cell_type": "code",
   "execution_count": 4,
   "metadata": {},
   "outputs": [],
   "source": [
    "cv2.imshow('Original Image', image_BGR)"
   ]
  },
  {
   "cell_type": "code",
   "execution_count": 5,
   "metadata": {},
   "outputs": [
    {
     "data": {
      "text/plain": [
       "-1"
      ]
     },
     "execution_count": 5,
     "metadata": {},
     "output_type": "execute_result"
    }
   ],
   "source": [
    "delay = 2000\n",
    "cv2.waitKey(delay)"
   ]
  },
  {
   "cell_type": "code",
   "execution_count": null,
   "metadata": {},
   "outputs": [],
   "source": [
    "# key = cv2.waitKey(-1)\n",
    "# if key == 27:\n",
    "# #     cv2.destroyAllWindows()\n",
    "#     cv2.destroyWindow('Original Image')"
   ]
  },
  {
   "cell_type": "code",
   "execution_count": 12,
   "metadata": {},
   "outputs": [],
   "source": []
  },
  {
   "cell_type": "code",
   "execution_count": 6,
   "metadata": {},
   "outputs": [
    {
     "name": "stdout",
     "output_type": "stream",
     "text": [
      "Image shape: (756, 1134, 3)\n"
     ]
    }
   ],
   "source": [
    "print('Image shape:', image_BGR.shape)  # tuple of (511, 767, 3)"
   ]
  },
  {
   "cell_type": "code",
   "execution_count": 7,
   "metadata": {},
   "outputs": [],
   "source": [
    "h, w = image_BGR.shape[:2] "
   ]
  },
  {
   "cell_type": "code",
   "execution_count": 8,
   "metadata": {},
   "outputs": [
    {
     "name": "stdout",
     "output_type": "stream",
     "text": [
      "Image height=756 and width=1134\n"
     ]
    }
   ],
   "source": [
    "print('Image height={0} and width={1}'.format(h, w))  # 511 767\n"
   ]
  },
  {
   "cell_type": "code",
   "execution_count": 2,
   "metadata": {},
   "outputs": [
    {
     "name": "stdout",
     "output_type": "stream",
     "text": [
      "Image shape: (756, 1134, 3)\n",
      "Image height=756 and width=1134\n"
     ]
    }
   ],
   "source": [
    "\n",
    "\"\"\"\n",
    "Reading input image\n",
    "\n",
    "\"\"\"\n",
    "\n",
    "# Reading image with OpenCV library\n",
    "# In this way image is opened already as numpy array\n",
    "# WARNING! OpenCV by default reads images in BGR format\n",
    "\n",
    "image_BGR = cv2.imread('image1.png')\n",
    "\n",
    "# Showing Original Image\n",
    "# Giving name to the window with Original Image\n",
    "# And specifying that window is resizable\n",
    "cv2.namedWindow('Original Image', cv2.WINDOW_NORMAL)\n",
    "\n",
    "# Pay attention! 'cv2.imshow' takes images in BGR format\n",
    "cv2.imshow('Original Image', image_BGR)\n",
    "# Waiting for any key being pressed\n",
    "delay = 2000\n",
    "cv2.waitKey(delay)\n",
    "# cv2.waitKey(-1)\n",
    "# Destroying opened window with name 'Original Image'\n",
    "cv2.destroyWindow('Original Image')\n",
    "\n",
    "# # Check point\n",
    "# # Showing image shape\n",
    "print('Image shape:', image_BGR.shape)  # tuple of (511, 767, 3)\n",
    "\n",
    "# Getting spatial dimension of input image\n",
    "h, w = image_BGR.shape[:2]  # Slicing from tuple only first two elements\n",
    "\n",
    "# # Check point\n",
    "# # Showing height an width of image\n",
    "print('Image height={0} and width={1}'.format(h, w))  # 511 767\n",
    "\n"
   ]
  },
  {
   "cell_type": "code",
   "execution_count": 3,
   "metadata": {},
   "outputs": [],
   "source": [
    "blob = cv2.dnn.blobFromImage(image_BGR, 1 / 255.0, (416, 416),\n",
    "                             swapRB=True, crop=False)\n"
   ]
  },
  {
   "cell_type": "code",
   "execution_count": 4,
   "metadata": {},
   "outputs": [
    {
     "name": "stdout",
     "output_type": "stream",
     "text": [
      "Image shape: (756, 1134, 3)\n",
      "Blob shape: (1, 3, 416, 416)\n"
     ]
    }
   ],
   "source": [
    "print('Image shape:', image_BGR.shape)  # (511, 767, 3)\n",
    "print('Blob shape:', blob.shape)  # (1, 3, 416, 416)\n"
   ]
  },
  {
   "cell_type": "code",
   "execution_count": 5,
   "metadata": {},
   "outputs": [
    {
     "name": "stdout",
     "output_type": "stream",
     "text": [
      "(416, 416, 3)\n"
     ]
    }
   ],
   "source": [
    "blob_to_show = blob[0, :, :, :].transpose(1, 2, 0)\n",
    "print(blob_to_show.shape)  # (416, 416, 3)"
   ]
  },
  {
   "cell_type": "code",
   "execution_count": 6,
   "metadata": {},
   "outputs": [],
   "source": [
    "cv2.namedWindow('Blob Image', cv2.WINDOW_NORMAL)"
   ]
  },
  {
   "cell_type": "code",
   "execution_count": 7,
   "metadata": {},
   "outputs": [],
   "source": [
    "cv2.imshow('Blob Image', cv2.cvtColor(blob_to_show, cv2.COLOR_RGB2BGR))"
   ]
  },
  {
   "cell_type": "code",
   "execution_count": 8,
   "metadata": {},
   "outputs": [
    {
     "data": {
      "text/plain": [
       "-1"
      ]
     },
     "execution_count": 8,
     "metadata": {},
     "output_type": "execute_result"
    }
   ],
   "source": [
    "delay = 2000\n",
    "cv2.waitKey(delay)"
   ]
  },
  {
   "cell_type": "code",
   "execution_count": 9,
   "metadata": {},
   "outputs": [],
   "source": [
    "cv2.destroyWindow('Blob Image')"
   ]
  },
  {
   "cell_type": "code",
   "execution_count": null,
   "metadata": {},
   "outputs": [],
   "source": []
  },
  {
   "cell_type": "code",
   "execution_count": null,
   "metadata": {},
   "outputs": [],
   "source": []
  },
  {
   "cell_type": "code",
   "execution_count": 3,
   "metadata": {},
   "outputs": [
    {
     "name": "stdout",
     "output_type": "stream",
     "text": [
      "Image shape: (756, 1134, 3)\n",
      "Blob shape: (1, 3, 416, 416)\n",
      "(416, 416, 3)\n"
     ]
    }
   ],
   "source": [
    "\"\"\"\n",
    "Getting blob from input image\n",
    "\"\"\"\n",
    "\n",
    "# Getting blob from input image\n",
    "# The 'cv2.dnn.blobFromImage' function returns 4-dimensional blob\n",
    "# from input image after mean subtraction, normalizing, and RB channels swapping\n",
    "# Resulted shape has number of images, number of channels, width and height\n",
    "# E.G.:\n",
    "blob = cv2.dnn.blobFromImage(image_BGR, 1 / 255.0, (416, 416),\n",
    "                             swapRB=True, crop=False)\n",
    "\n",
    "\n",
    "print('Image shape:', image_BGR.shape)  # (511, 767, 3)\n",
    "print('Blob shape:', blob.shape)  # (1, 3, 416, 416)\n",
    "\n",
    "\n",
    "# Showing blob image in OpenCV window\n",
    "# Slicing blob image and transposing to make channels come at the end\n",
    "blob_to_show = blob[0, :, :, :].transpose(1, 2, 0)\n",
    "print(blob_to_show.shape)  # (416, 416, 3)\n",
    "\n",
    "# Showing Blob Image\n",
    "# Giving name to the window with Blob Image\n",
    "# And specifying that window is resizable\n",
    "cv2.namedWindow('Blob Image', cv2.WINDOW_NORMAL)\n",
    "\n",
    "# Pay attention! 'cv2.imshow' takes images in BGR format\n",
    "# Consequently, we DO need to convert image from RGB to BGR firstly\n",
    "# Because we have our blob in RGB format\n",
    "cv2.imshow('Blob Image', cv2.cvtColor(blob_to_show, cv2.COLOR_RGB2BGR))\n",
    "# Waiting for any key being pressed\n",
    "delay = 2000\n",
    "cv2.waitKey(delay)\n",
    "# cv2.waitKey(0)\n",
    "# Destroying opened window with name 'Blob Image'\n",
    "cv2.destroyWindow('Blob Image')"
   ]
  },
  {
   "cell_type": "code",
   "execution_count": 10,
   "metadata": {},
   "outputs": [],
   "source": [
    "with open(r'yolo-coco-data/coco.names') as f:\n",
    "    # Getting labels reading every line\n",
    "    # and putting them into the list\n",
    "    labels = [line.strip() for line in f]\n"
   ]
  },
  {
   "cell_type": "code",
   "execution_count": 11,
   "metadata": {},
   "outputs": [
    {
     "name": "stdout",
     "output_type": "stream",
     "text": [
      "List with labels names:\n",
      "['person', 'bicycle', 'car', 'motorbike', 'aeroplane', 'bus', 'train', 'truck', 'boat', 'traffic light', 'fire hydrant', 'stop sign', 'parking meter', 'bench', 'bird', 'cat', 'dog', 'horse', 'sheep', 'cow', 'elephant', 'bear', 'zebra', 'giraffe', 'backpack', 'umbrella', 'handbag', 'tie', 'suitcase', 'frisbee', 'skis', 'snowboard', 'sports ball', 'kite', 'baseball bat', 'baseball glove', 'skateboard', 'surfboard', 'tennis racket', 'bottle', 'wine glass', 'cup', 'fork', 'knife', 'spoon', 'bowl', 'banana', 'apple', 'sandwich', 'orange', 'broccoli', 'carrot', 'hot dog', 'pizza', 'donut', 'cake', 'chair', 'sofa', 'pottedplant', 'bed', 'diningtable', 'toilet', 'tvmonitor', 'laptop', 'mouse', 'remote', 'keyboard', 'cell phone', 'microwave', 'oven', 'toaster', 'sink', 'refrigerator', 'book', 'clock', 'vase', 'scissors', 'teddy bear', 'hair drier', 'toothbrush']\n"
     ]
    }
   ],
   "source": [
    "print('List with labels names:')\n",
    "print(labels)\n"
   ]
  },
  {
   "cell_type": "code",
   "execution_count": 12,
   "metadata": {},
   "outputs": [],
   "source": [
    "network = cv2.dnn.readNetFromDarknet('yolo-coco-data/yolov3.cfg',\n",
    "                                     'yolo-coco-data/yolov3.weights')"
   ]
  },
  {
   "cell_type": "code",
   "execution_count": 13,
   "metadata": {},
   "outputs": [],
   "source": [
    "layers_names_all = network.getLayerNames()"
   ]
  },
  {
   "cell_type": "code",
   "execution_count": 58,
   "metadata": {},
   "outputs": [
    {
     "data": {
      "text/plain": [
       "('conv_0',\n",
       " 'bn_0',\n",
       " 'leaky_1',\n",
       " 'conv_1',\n",
       " 'bn_1',\n",
       " 'leaky_2',\n",
       " 'conv_2',\n",
       " 'bn_2',\n",
       " 'leaky_3',\n",
       " 'conv_3',\n",
       " 'bn_3',\n",
       " 'leaky_4',\n",
       " 'shortcut_4',\n",
       " 'conv_5',\n",
       " 'bn_5',\n",
       " 'leaky_6',\n",
       " 'conv_6',\n",
       " 'bn_6',\n",
       " 'leaky_7',\n",
       " 'conv_7',\n",
       " 'bn_7',\n",
       " 'leaky_8',\n",
       " 'shortcut_8',\n",
       " 'conv_9',\n",
       " 'bn_9',\n",
       " 'leaky_10',\n",
       " 'conv_10',\n",
       " 'bn_10',\n",
       " 'leaky_11',\n",
       " 'shortcut_11',\n",
       " 'conv_12',\n",
       " 'bn_12',\n",
       " 'leaky_13',\n",
       " 'conv_13',\n",
       " 'bn_13',\n",
       " 'leaky_14',\n",
       " 'conv_14',\n",
       " 'bn_14',\n",
       " 'leaky_15',\n",
       " 'shortcut_15',\n",
       " 'conv_16',\n",
       " 'bn_16',\n",
       " 'leaky_17',\n",
       " 'conv_17',\n",
       " 'bn_17',\n",
       " 'leaky_18',\n",
       " 'shortcut_18',\n",
       " 'conv_19',\n",
       " 'bn_19',\n",
       " 'leaky_20',\n",
       " 'conv_20',\n",
       " 'bn_20',\n",
       " 'leaky_21',\n",
       " 'shortcut_21',\n",
       " 'conv_22',\n",
       " 'bn_22',\n",
       " 'leaky_23',\n",
       " 'conv_23',\n",
       " 'bn_23',\n",
       " 'leaky_24',\n",
       " 'shortcut_24',\n",
       " 'conv_25',\n",
       " 'bn_25',\n",
       " 'leaky_26',\n",
       " 'conv_26',\n",
       " 'bn_26',\n",
       " 'leaky_27',\n",
       " 'shortcut_27',\n",
       " 'conv_28',\n",
       " 'bn_28',\n",
       " 'leaky_29',\n",
       " 'conv_29',\n",
       " 'bn_29',\n",
       " 'leaky_30',\n",
       " 'shortcut_30',\n",
       " 'conv_31',\n",
       " 'bn_31',\n",
       " 'leaky_32',\n",
       " 'conv_32',\n",
       " 'bn_32',\n",
       " 'leaky_33',\n",
       " 'shortcut_33',\n",
       " 'conv_34',\n",
       " 'bn_34',\n",
       " 'leaky_35',\n",
       " 'conv_35',\n",
       " 'bn_35',\n",
       " 'leaky_36',\n",
       " 'shortcut_36',\n",
       " 'conv_37',\n",
       " 'bn_37',\n",
       " 'leaky_38',\n",
       " 'conv_38',\n",
       " 'bn_38',\n",
       " 'leaky_39',\n",
       " 'conv_39',\n",
       " 'bn_39',\n",
       " 'leaky_40',\n",
       " 'shortcut_40',\n",
       " 'conv_41',\n",
       " 'bn_41',\n",
       " 'leaky_42',\n",
       " 'conv_42',\n",
       " 'bn_42',\n",
       " 'leaky_43',\n",
       " 'shortcut_43',\n",
       " 'conv_44',\n",
       " 'bn_44',\n",
       " 'leaky_45',\n",
       " 'conv_45',\n",
       " 'bn_45',\n",
       " 'leaky_46',\n",
       " 'shortcut_46',\n",
       " 'conv_47',\n",
       " 'bn_47',\n",
       " 'leaky_48',\n",
       " 'conv_48',\n",
       " 'bn_48',\n",
       " 'leaky_49',\n",
       " 'shortcut_49',\n",
       " 'conv_50',\n",
       " 'bn_50',\n",
       " 'leaky_51',\n",
       " 'conv_51',\n",
       " 'bn_51',\n",
       " 'leaky_52',\n",
       " 'shortcut_52',\n",
       " 'conv_53',\n",
       " 'bn_53',\n",
       " 'leaky_54',\n",
       " 'conv_54',\n",
       " 'bn_54',\n",
       " 'leaky_55',\n",
       " 'shortcut_55',\n",
       " 'conv_56',\n",
       " 'bn_56',\n",
       " 'leaky_57',\n",
       " 'conv_57',\n",
       " 'bn_57',\n",
       " 'leaky_58',\n",
       " 'shortcut_58',\n",
       " 'conv_59',\n",
       " 'bn_59',\n",
       " 'leaky_60',\n",
       " 'conv_60',\n",
       " 'bn_60',\n",
       " 'leaky_61',\n",
       " 'shortcut_61',\n",
       " 'conv_62',\n",
       " 'bn_62',\n",
       " 'leaky_63',\n",
       " 'conv_63',\n",
       " 'bn_63',\n",
       " 'leaky_64',\n",
       " 'conv_64',\n",
       " 'bn_64',\n",
       " 'leaky_65',\n",
       " 'shortcut_65',\n",
       " 'conv_66',\n",
       " 'bn_66',\n",
       " 'leaky_67',\n",
       " 'conv_67',\n",
       " 'bn_67',\n",
       " 'leaky_68',\n",
       " 'shortcut_68',\n",
       " 'conv_69',\n",
       " 'bn_69',\n",
       " 'leaky_70',\n",
       " 'conv_70',\n",
       " 'bn_70',\n",
       " 'leaky_71',\n",
       " 'shortcut_71',\n",
       " 'conv_72',\n",
       " 'bn_72',\n",
       " 'leaky_73',\n",
       " 'conv_73',\n",
       " 'bn_73',\n",
       " 'leaky_74',\n",
       " 'shortcut_74',\n",
       " 'conv_75',\n",
       " 'bn_75',\n",
       " 'leaky_76',\n",
       " 'conv_76',\n",
       " 'bn_76',\n",
       " 'leaky_77',\n",
       " 'conv_77',\n",
       " 'bn_77',\n",
       " 'leaky_78',\n",
       " 'conv_78',\n",
       " 'bn_78',\n",
       " 'leaky_79',\n",
       " 'conv_79',\n",
       " 'bn_79',\n",
       " 'leaky_80',\n",
       " 'conv_80',\n",
       " 'bn_80',\n",
       " 'leaky_81',\n",
       " 'conv_81',\n",
       " 'permute_82',\n",
       " 'yolo_82',\n",
       " 'identity_83',\n",
       " 'conv_84',\n",
       " 'bn_84',\n",
       " 'leaky_85',\n",
       " 'upsample_85',\n",
       " 'concat_86',\n",
       " 'conv_87',\n",
       " 'bn_87',\n",
       " 'leaky_88',\n",
       " 'conv_88',\n",
       " 'bn_88',\n",
       " 'leaky_89',\n",
       " 'conv_89',\n",
       " 'bn_89',\n",
       " 'leaky_90',\n",
       " 'conv_90',\n",
       " 'bn_90',\n",
       " 'leaky_91',\n",
       " 'conv_91',\n",
       " 'bn_91',\n",
       " 'leaky_92',\n",
       " 'conv_92',\n",
       " 'bn_92',\n",
       " 'leaky_93',\n",
       " 'conv_93',\n",
       " 'permute_94',\n",
       " 'yolo_94',\n",
       " 'identity_95',\n",
       " 'conv_96',\n",
       " 'bn_96',\n",
       " 'leaky_97',\n",
       " 'upsample_97',\n",
       " 'concat_98',\n",
       " 'conv_99',\n",
       " 'bn_99',\n",
       " 'leaky_100',\n",
       " 'conv_100',\n",
       " 'bn_100',\n",
       " 'leaky_101',\n",
       " 'conv_101',\n",
       " 'bn_101',\n",
       " 'leaky_102',\n",
       " 'conv_102',\n",
       " 'bn_102',\n",
       " 'leaky_103',\n",
       " 'conv_103',\n",
       " 'bn_103',\n",
       " 'leaky_104',\n",
       " 'conv_104',\n",
       " 'bn_104',\n",
       " 'leaky_105',\n",
       " 'conv_105',\n",
       " 'permute_106',\n",
       " 'yolo_106')"
      ]
     },
     "execution_count": 58,
     "metadata": {},
     "output_type": "execute_result"
    }
   ],
   "source": [
    "type (layers_names_all)\n",
    "\n",
    "layers_names_all"
   ]
  },
  {
   "cell_type": "code",
   "execution_count": 62,
   "metadata": {},
   "outputs": [
    {
     "name": "stdout",
     "output_type": "stream",
     "text": [
      "254\n",
      "3\n"
     ]
    }
   ],
   "source": [
    "print(len(layers_names_all))\n",
    "print(len(network.getUnconnectedOutLayers()))\n"
   ]
  },
  {
   "cell_type": "code",
   "execution_count": 72,
   "metadata": {},
   "outputs": [
    {
     "name": "stdout",
     "output_type": "stream",
     "text": [
      "identity_83\n",
      "identity_95\n",
      "yolo_106\n"
     ]
    },
    {
     "data": {
      "text/plain": [
       "array([200, 227, 254], dtype=int32)"
      ]
     },
     "execution_count": 72,
     "metadata": {},
     "output_type": "execute_result"
    }
   ],
   "source": [
    "x=network.getUnconnectedOutLayers()\n",
    "# for i in range(len(x)):\n",
    "#     print(layers_names_all[i],x[i])\n",
    "print(layers_names_all[x[0]])\n",
    "print(layers_names_all[x[1]])\n",
    "print(layers_names_all[x[2]-1])\n",
    "x"
   ]
  },
  {
   "cell_type": "code",
   "execution_count": 70,
   "metadata": {},
   "outputs": [],
   "source": [
    "layers_names_output = \\\n",
    "    [layers_names_all[i - 1] for i in network.getUnconnectedOutLayers()]"
   ]
  },
  {
   "cell_type": "code",
   "execution_count": 73,
   "metadata": {},
   "outputs": [
    {
     "name": "stdout",
     "output_type": "stream",
     "text": [
      "\n",
      "['yolo_82', 'yolo_94', 'yolo_106']\n"
     ]
    }
   ],
   "source": [
    "print()\n",
    "print(layers_names_output)  # ['yolo_82', 'yolo_94', 'yolo_106']\n"
   ]
  },
  {
   "cell_type": "code",
   "execution_count": 74,
   "metadata": {},
   "outputs": [],
   "source": [
    "probability_minimum = 0.5\n",
    "\n",
    "\n",
    "threshold = 0.3"
   ]
  },
  {
   "cell_type": "code",
   "execution_count": 75,
   "metadata": {},
   "outputs": [],
   "source": [
    "colours = np.random.randint(0, 255, size=(len(labels), 3), dtype='uint8')"
   ]
  },
  {
   "cell_type": "code",
   "execution_count": 76,
   "metadata": {},
   "outputs": [
    {
     "name": "stdout",
     "output_type": "stream",
     "text": [
      "\n",
      "<class 'numpy.ndarray'>\n",
      "(80, 3)\n",
      "[ 49 111 210]\n"
     ]
    }
   ],
   "source": [
    "print()\n",
    "print(type(colours))  # <class 'numpy.ndarray'>\n",
    "print(colours.shape)  # (80, 3)\n",
    "print(colours[0])  # [172  10 127]\n"
   ]
  },
  {
   "cell_type": "code",
   "execution_count": null,
   "metadata": {},
   "outputs": [],
   "source": []
  },
  {
   "cell_type": "code",
   "execution_count": 4,
   "metadata": {},
   "outputs": [
    {
     "name": "stdout",
     "output_type": "stream",
     "text": [
      "List with labels names:\n",
      "['person', 'bicycle', 'car', 'motorbike', 'aeroplane', 'bus', 'train', 'truck', 'boat', 'traffic light', 'fire hydrant', 'stop sign', 'parking meter', 'bench', 'bird', 'cat', 'dog', 'horse', 'sheep', 'cow', 'elephant', 'bear', 'zebra', 'giraffe', 'backpack', 'umbrella', 'handbag', 'tie', 'suitcase', 'frisbee', 'skis', 'snowboard', 'sports ball', 'kite', 'baseball bat', 'baseball glove', 'skateboard', 'surfboard', 'tennis racket', 'bottle', 'wine glass', 'cup', 'fork', 'knife', 'spoon', 'bowl', 'banana', 'apple', 'sandwich', 'orange', 'broccoli', 'carrot', 'hot dog', 'pizza', 'donut', 'cake', 'chair', 'sofa', 'pottedplant', 'bed', 'diningtable', 'toilet', 'tvmonitor', 'laptop', 'mouse', 'remote', 'keyboard', 'cell phone', 'microwave', 'oven', 'toaster', 'sink', 'refrigerator', 'book', 'clock', 'vase', 'scissors', 'teddy bear', 'hair drier', 'toothbrush']\n",
      "\n",
      "['yolo_82', 'yolo_94', 'yolo_106']\n",
      "\n",
      "<class 'numpy.ndarray'>\n",
      "(80, 3)\n",
      "[ 50 219 219]\n"
     ]
    }
   ],
   "source": [
    "\"\"\"\n",
    "Loading YOLO v3 network\n",
    "\"\"\"\n",
    "\n",
    "# Loading COCO class labels from file\n",
    "# Opening file\n",
    "\n",
    "with open(r'yolo-coco-data/coco.names') as f:\n",
    "    # Getting labels reading every line\n",
    "    # and putting them into the list\n",
    "    labels = [line.strip() for line in f]\n",
    "\n",
    "\n",
    "\n",
    "print('List with labels names:')\n",
    "print(labels)\n",
    "\n",
    "# Loading trained YOLO v3 Objects Detector\n",
    "# with the help of 'dnn' library from OpenCV\n",
    "network = cv2.dnn.readNetFromDarknet('yolo-coco-data/yolov3.cfg',\n",
    "                                     'yolo-coco-data/yolov3.weights')\n",
    "\n",
    "# Getting list with names of all layers from YOLO v3 network\n",
    "layers_names_all = network.getLayerNames()\n",
    "\n",
    "\n",
    "# print()\n",
    "# print(layers_names_all)\n",
    "\n",
    "# Getting only output layers' names that we need from YOLO v3 algorithm\n",
    "# with function that returns indexes of layers with unconnected outputs\n",
    "layers_names_output = \\\n",
    "    [layers_names_all[i - 1] for i in network.getUnconnectedOutLayers()]\n",
    "\n",
    "\n",
    "print()\n",
    "print(layers_names_output)  # ['yolo_82', 'yolo_94', 'yolo_106']\n",
    "\n",
    "# Setting minimum probability to eliminate weak predictions\n",
    "probability_minimum = 0.5\n",
    "\n",
    "# Setting threshold for filtering weak bounding boxes\n",
    "# with non-maximum suppression\n",
    "threshold = 0.3\n",
    "\n",
    "# Generating colours for representing every detected object\n",
    "# with function randint(low, high=None, size=None, dtype='l')\n",
    "colours = np.random.randint(0, 255, size=(len(labels), 3), dtype='uint8')\n",
    "\n",
    "print()\n",
    "print(type(colours))  # <class 'numpy.ndarray'>\n",
    "print(colours.shape)  # (80, 3)\n",
    "print(colours[0])  # [172  10 127]\n"
   ]
  },
  {
   "cell_type": "code",
   "execution_count": 5,
   "metadata": {},
   "outputs": [
    {
     "name": "stdout",
     "output_type": "stream",
     "text": [
      "Objects Detection took 0.47569 seconds\n"
     ]
    }
   ],
   "source": [
    "\"\"\"\n",
    "Implementing Forward pass\n",
    "\"\"\"\n",
    "\n",
    "# Implementing forward pass with our blob and only through output layers\n",
    "# Calculating at the same time, needed time for forward pass\n",
    "network.setInput(blob)  # setting blob as input to the network\n",
    "start = time.time()\n",
    "output_from_network = network.forward(layers_names_output)\n",
    "end = time.time()\n",
    "\n",
    "# Showing spent time for forward pass\n",
    "print('Objects Detection took {:.5f} seconds'.format(end - start))"
   ]
  },
  {
   "cell_type": "code",
   "execution_count": 6,
   "metadata": {},
   "outputs": [],
   "source": [
    "\"\"\"\n",
    "Getting bounding boxes\n",
    "\"\"\"\n",
    "\n",
    "# Preparing lists for detected bounding boxes,\n",
    "# obtained confidences and class's number\n",
    "bounding_boxes = []\n",
    "confidences = []\n",
    "class_numbers = []\n",
    "\n",
    "\n",
    "# Going through all output layers after feed forward pass\n",
    "for result in output_from_network:\n",
    "    # Going through all detections from current output layer\n",
    "    for detected_objects in result:\n",
    "        # Getting 80 classes' probabilities for current detected object\n",
    "        scores = detected_objects[5:]\n",
    "        # Getting index of the class with the maximum value of probability\n",
    "        class_current = np.argmax(scores)\n",
    "        # Getting value of probability for defined class\n",
    "        confidence_current = scores[class_current]\n",
    "\n",
    "        # # Check point\n",
    "        # # Every 'detected_objects' numpy array has first 4 numbers with\n",
    "        # # bounding box coordinates and rest 80 with probabilities for every class\n",
    "        # print(detected_objects.shape)  # (85,)\n",
    "\n",
    "        # Eliminating weak predictions with minimum probability\n",
    "        if confidence_current > probability_minimum:\n",
    "            # Scaling bounding box coordinates to the initial image size\n",
    "            # YOLO data format keeps coordinates for center of bounding box\n",
    "            # and its current width and height\n",
    "            # That is why we can just multiply them elementwise\n",
    "            # to the width and height\n",
    "            # of the original image and in this way get coordinates for center\n",
    "            # of bounding box, its width and height for original image\n",
    "            box_current = detected_objects[0:4] * np.array([w, h, w, h])\n",
    "\n",
    "            # Now, from YOLO data format, we can get top left corner coordinates\n",
    "            # that are x_min and y_min\n",
    "            x_center, y_center, box_width, box_height = box_current\n",
    "            x_min = int(x_center - (box_width / 2))\n",
    "            y_min = int(y_center - (box_height / 2))\n",
    "\n",
    "            # Adding results into prepared lists\n",
    "            bounding_boxes.append([x_min, y_min, int(box_width), int(box_height)])\n",
    "            confidences.append(float(confidence_current))\n",
    "            class_numbers.append(class_current)\n",
    "\n",
    "\n",
    "\"\"\"\n",
    "Non-maximum suppression\n",
    "\"\"\"\n",
    "\n",
    "# Implementing non-maximum suppression of given bounding boxes\n",
    "# With this technique we exclude some of bounding boxes if their corresponding confidences are low or there is another\n",
    "# bounding box for this region with higher confidence\n",
    "\n",
    "\n",
    "# It is needed to make sure that data type of the boxes is 'int'\n",
    "# and data type of the confidences is 'float'\n",
    "\n",
    "results = cv2.dnn.NMSBoxes(bounding_boxes, confidences,\n",
    "                           probability_minimum, threshold)\n",
    "\n"
   ]
  },
  {
   "cell_type": "code",
   "execution_count": 80,
   "metadata": {},
   "outputs": [
    {
     "name": "stdout",
     "output_type": "stream",
     "text": [
      "Object 1: laptop\n",
      "Object 2: person\n",
      "Object 3: cup\n",
      "Object 4: laptop\n",
      "\n",
      "Total objects been detected: 15\n",
      "Number of objects left after non-maximum suppression: 4\n"
     ]
    }
   ],
   "source": [
    "\"\"\"\n",
    "Drawing bounding boxes and labels\n",
    "\"\"\"\n",
    "\n",
    "# Defining counter for detected objects\n",
    "counter = 1\n",
    "\n",
    "# Checking if there is at least one detected object after non-maximum suppression\n",
    "if len(results) > 0:\n",
    "    # Going through indexes of results\n",
    "    for i in results.flatten():\n",
    "        # Showing labels of the detected objects\n",
    "        print('Object {0}: {1}'.format(counter, labels[int(class_numbers[i])]))\n",
    "\n",
    "        # Incrementing counter\n",
    "        counter += 1\n",
    "\n",
    "        # Getting current bounding box coordinates,\n",
    "        # its width and height\n",
    "        x_min, y_min = bounding_boxes[i][0], bounding_boxes[i][1]\n",
    "        box_width, box_height = bounding_boxes[i][2], bounding_boxes[i][3]\n",
    "\n",
    "        # Preparing colour for current bounding box\n",
    "        # and converting from numpy array to list\n",
    "        colour_box_current = colours[class_numbers[i]].tolist()\n",
    "\n",
    "        # # # Check point\n",
    "        # print(type(colour_box_current))  # <class 'list'>\n",
    "        # print(colour_box_current)  # [172 , 10, 127]\n",
    "\n",
    "        # Drawing bounding box on the original image\n",
    "        cv2.rectangle(image_BGR, (x_min, y_min),\n",
    "                      (x_min + box_width, y_min + box_height),\n",
    "                      colour_box_current, 2)\n",
    "\n",
    "        # Preparing text with label and confidence for current bounding box\n",
    "        text_box_current = '{}: {:.4f}'.format(labels[int(class_numbers[i])],\n",
    "                                               confidences[i])\n",
    "\n",
    "        # Putting text with label and confidence on the original image\n",
    "        cv2.putText(image_BGR, text_box_current, (x_min, y_min - 5),\n",
    "                    cv2.FONT_HERSHEY_COMPLEX, 0.7, colour_box_current, 2)\n",
    "\n",
    "\n",
    "# Comparing how many objects where before non-maximum suppression\n",
    "# and left after\n",
    "print()\n",
    "print('Total objects been detected:', len(bounding_boxes))\n",
    "print('Number of objects left after non-maximum suppression:', counter - 1)\n"
   ]
  },
  {
   "cell_type": "code",
   "execution_count": null,
   "metadata": {},
   "outputs": [],
   "source": [
    "# Showing Original Image with Detected Objects\n",
    "# Giving name to the window with Original Image\n",
    "# And specifying that window is resizable\n",
    "cv2.namedWindow('Detections', cv2.WINDOW_NORMAL)\n",
    "# Pay attention! 'cv2.imshow' takes images in BGR format\n",
    "cv2.imshow('Detections', image_BGR)\n",
    "# Waiting for any key being pressed\n",
    "cv2.waitKey(0)\n",
    "# Destroying opened window with name 'Detections'\n",
    "cv2.destroyWindow('Detections')"
   ]
  },
  {
   "cell_type": "code",
   "execution_count": null,
   "metadata": {},
   "outputs": [],
   "source": []
  }
 ],
 "metadata": {
  "kernelspec": {
   "display_name": "Python 3 (ipykernel)",
   "language": "python",
   "name": "python3"
  },
  "language_info": {
   "codemirror_mode": {
    "name": "ipython",
    "version": 3
   },
   "file_extension": ".py",
   "mimetype": "text/x-python",
   "name": "python",
   "nbconvert_exporter": "python",
   "pygments_lexer": "ipython3",
   "version": "3.10.9"
  }
 },
 "nbformat": 4,
 "nbformat_minor": 4
}
